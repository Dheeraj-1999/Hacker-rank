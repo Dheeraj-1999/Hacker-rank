{
 "cells": [
  {
   "cell_type": "markdown",
   "metadata": {},
   "source": [
    "# Not BY Me!!!! Geeks for Geeks"
   ]
  },
  {
   "cell_type": "code",
   "execution_count": 24,
   "metadata": {},
   "outputs": [],
   "source": [
    "def gcd(a, b): \n",
    "    if b == 0: \n",
    "        return a; \n",
    "    else: \n",
    "        return gcd(b, a % b) "
   ]
  },
  {
   "cell_type": "code",
   "execution_count": 33,
   "metadata": {},
   "outputs": [
    {
     "name": "stdout",
     "output_type": "stream",
     "text": [
      "enter the no.8\n",
      "enter the no.7\n"
     ]
    },
    {
     "data": {
      "text/plain": [
       "1"
      ]
     },
     "execution_count": 33,
     "metadata": {},
     "output_type": "execute_result"
    }
   ],
   "source": [
    "n,m = int(input(\"enter the no.\")), int(input(\"enter the no.\"))\n",
    "gcd(n,m)"
   ]
  },
  {
   "cell_type": "code",
   "execution_count": 28,
   "metadata": {},
   "outputs": [],
   "source": [
    "def leftRotate(arr, d, n): \n",
    "    g_c_d = gcd(d, n) \n",
    "    for i in range(g_c_d): \n",
    "          \n",
    "        # move i-th values of blocks  \n",
    "        temp = arr[i] \n",
    "        j = i \n",
    "        while 1:\n",
    "            print(\"j%d\"%d)\n",
    "            k = j + d\n",
    "            if k >= n:\n",
    "                k = k - n\n",
    "                print(k)\n",
    "            if k == i: \n",
    "                break\n",
    "            arr[j] = arr[k] \n",
    "            j = k \n",
    "        arr[j] = temp \n",
    "    return arr\n"
   ]
  },
  {
   "cell_type": "code",
   "execution_count": null,
   "metadata": {},
   "outputs": [],
   "source": [
    "arr = list(range(1,13))\n",
    "leftRotate(arr,10,12)"
   ]
  },
  {
   "cell_type": "code",
   "execution_count": null,
   "metadata": {},
   "outputs": [],
   "source": [
    "d = int(input(\"enter the rotation point\"))\n",
    "arr = list(range(1,11))\n",
    "for i in range(d,len(arr)):\n",
    "    print(a[i])1"
   ]
  },
  {
   "cell_type": "markdown",
   "metadata": {},
   "source": [
    "# By Me"
   ]
  },
  {
   "cell_type": "code",
   "execution_count": 36,
   "metadata": {},
   "outputs": [],
   "source": [
    "def rotate(ai,key):    \n",
    "    ai = [int(c_temp) for c_temp in input().strip().split(' ')]\n",
    "    key = int(input(\"enter the key\"))\n",
    "    ao = []\n",
    "    i, j = 0, 0\n",
    "    if key>=len(ai):\n",
    "        return (ai)\n",
    "    while(i<len(ai) and key>=len(ai)):#&& key%len(ai)\n",
    "        if(i+key>=len(ai)):\n",
    "            ao.append(ai[j])\n",
    "            j += 1\n",
    "        else:\n",
    "            print(\"i = %d\"%i)\n",
    "            ao.append(ai[i+key])\n",
    "        i += 1\n",
    "    returnrn(ao)\n"
   ]
  },
  {
   "cell_type": "markdown",
   "metadata": {},
   "source": [
    "# By HAckerrank user"
   ]
  },
  {
   "cell_type": "markdown",
   "metadata": {},
   "source": [
    "### time complexity = O(n-key)+O(key)"
   ]
  },
  {
   "cell_type": "code",
   "execution_count": 37,
   "metadata": {
    "scrolled": true
   },
   "outputs": [
    {
     "name": "stdout",
     "output_type": "stream",
     "text": [
      "1 2 3 4\n",
      "enter the key3\n",
      "[4, 1, 2, 3]\n"
     ]
    }
   ],
   "source": [
    "ai = [int(c_temp) for c_temp in input().strip().split(' ')]\n",
    "key = int(input(\"enter the key\"))\n",
    "print(ai[key:]+ai[:key])"
   ]
  },
  {
   "cell_type": "markdown",
   "metadata": {},
   "source": [
    "# solution 3 using push pop"
   ]
  },
  {
   "cell_type": "code",
   "execution_count": 39,
   "metadata": {},
   "outputs": [
    {
     "name": "stdout",
     "output_type": "stream",
     "text": [
      "1 2 3 4\n",
      "enter the key3\n"
     ]
    },
    {
     "data": {
      "text/plain": [
       "[4, 1, 2, 3]"
      ]
     },
     "execution_count": 39,
     "metadata": {},
     "output_type": "execute_result"
    }
   ],
   "source": [
    "ai = [int(c_temp) for c_temp in input().strip().split(' ')]\n",
    "key = int(input(\"enter the key\"))\n",
    "for i in range(key):\n",
    "    ai.append(ai.pop(0))\n",
    "ai"
   ]
  },
  {
   "cell_type": "code",
   "execution_count": null,
   "metadata": {},
   "outputs": [],
   "source": []
  }
 ],
 "metadata": {
  "kernelspec": {
   "display_name": "Python 3",
   "language": "python",
   "name": "python3"
  },
  "language_info": {
   "codemirror_mode": {
    "name": "ipython",
    "version": 3
   },
   "file_extension": ".py",
   "mimetype": "text/x-python",
   "name": "python",
   "nbconvert_exporter": "python",
   "pygments_lexer": "ipython3",
   "version": "3.7.3"
  }
 },
 "nbformat": 4,
 "nbformat_minor": 2
}
