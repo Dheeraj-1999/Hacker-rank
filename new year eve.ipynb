{
 "cells": [
  {
   "cell_type": "code",
   "execution_count": 39,
   "metadata": {},
   "outputs": [],
   "source": [
    "def bubbleSort(a):\n",
    "    for i in range(len(a)):\n",
    "        if a[i]-(i+1)>2:\n",
    "            print(\"to chaoao\")\n",
    "            return 0\n",
    "    count = 0\n",
    "    for j in range(len(a)):\n",
    "        swapped = False\n",
    "        i = 0\n",
    "        while i<len(a)-1:\n",
    "            if a[i]>a[i+1]:\n",
    "                a[i],a[i+1] = a[i+1],a[i]\n",
    "                swapped = True\n",
    "                count += 1\n",
    "            i = i+1\n",
    "        if swapped == False:\n",
    "            break\n",
    "    return(a, count)"
   ]
  },
  {
   "cell_type": "code",
   "execution_count": 40,
   "metadata": {},
   "outputs": [
    {
     "data": {
      "text/plain": [
       "([1, 2, 3, 4, 5], 4)"
      ]
     },
     "execution_count": 40,
     "metadata": {},
     "output_type": "execute_result"
    }
   ],
   "source": [
    "a = [2 ,5, 1, 3, 4]\n",
    "ar = bubbleSort(a)\n",
    "ar"
   ]
  },
  {
   "cell_type": "code",
   "execution_count": 4,
   "metadata": {},
   "outputs": [],
   "source": [
    "no = 9417079140"
   ]
  },
  {
   "cell_type": "code",
   "execution_count": 5,
   "metadata": {},
   "outputs": [
    {
     "data": {
      "text/plain": [
       "9417079140"
      ]
     },
     "execution_count": 5,
     "metadata": {},
     "output_type": "execute_result"
    }
   ],
   "source": [
    "no"
   ]
  },
  {
   "cell_type": "code",
   "execution_count": 29,
   "metadata": {},
   "outputs": [],
   "source": [
    "def bubbleSort(a):\n",
    "    lists = []\n",
    "    count = 0\n",
    "    for j in range(len(a)):\n",
    "        swapped = False\n",
    "        i = 0\n",
    "        while i<len(a)-1:\n",
    "            if a[i]>a[i+1]:\n",
    "                lists.append(a[i])\n",
    "                a[i],a[i+1] = a[i+1],a[i]\n",
    "                swapped = True\n",
    "                count += 1\n",
    "            i = i+1\n",
    "        if swapped == False:\n",
    "            break\n",
    "    return(a, count, lists)"
   ]
  },
  {
   "cell_type": "code",
   "execution_count": 30,
   "metadata": {},
   "outputs": [
    {
     "data": {
      "text/plain": [
       "([1, 2, 3, 4, 5, 6, 7, 8], 7, [5, 8, 8, 7, 7, 6, 5])"
      ]
     },
     "execution_count": 30,
     "metadata": {},
     "output_type": "execute_result"
    }
   ],
   "source": [
    "a = [1,2,5,3,7,8,6,4]\n",
    "ar = bubbleSort(a)\n",
    "ar"
   ]
  },
  {
   "cell_type": "code",
   "execution_count": 41,
   "metadata": {},
   "outputs": [
    {
     "name": "stdout",
     "output_type": "stream",
     "text": [
      "8\n",
      "1 2 5 3 7 8 6 4\n"
     ]
    },
    {
     "data": {
      "text/plain": [
       "([1, 2, 3, 4, 5, 6, 7, 8], 7)"
      ]
     },
     "execution_count": 41,
     "metadata": {},
     "output_type": "execute_result"
    }
   ],
   "source": [
    "n = int(input())\n",
    "q = list(map(int, input().rstrip().split()))\n",
    "bubbleSort(q)"
   ]
  },
  {
   "cell_type": "code",
   "execution_count": 15,
   "metadata": {},
   "outputs": [
    {
     "name": "stdout",
     "output_type": "stream",
     "text": [
      "[10, 11, 12, 14, 15, 16, 19]\n"
     ]
    }
   ],
   "source": [
    "a = [16, 19, 11, 15, 10, 12, 14]\n",
    "\n",
    "#repeating loop len(a)(number of elements) number of times\n",
    "for j in range(len(a)):\n",
    "    #initially swapped is false\n",
    "    swapped = False\n",
    "    i = 0\n",
    "    while i<len(a)-1:\n",
    "        #comparing the adjacent elements\n",
    "        if a[i]>a[i+1]:\n",
    "            #swapping\n",
    "            a[i],a[i+1] = a[i+1],a[i]\n",
    "            #Changing the value of swapped\n",
    "            swapped = True\n",
    "        i = i+1\n",
    "    #if swapped is false then the list is sorted\n",
    "    #we can stop the loop\n",
    "    if swapped == False:\n",
    "        break\n",
    "print (a)"
   ]
  },
  {
   "cell_type": "code",
   "execution_count": null,
   "metadata": {},
   "outputs": [],
   "source": []
  }
 ],
 "metadata": {
  "kernelspec": {
   "display_name": "Python 3",
   "language": "python",
   "name": "python3"
  },
  "language_info": {
   "codemirror_mode": {
    "name": "ipython",
    "version": 3
   },
   "file_extension": ".py",
   "mimetype": "text/x-python",
   "name": "python",
   "nbconvert_exporter": "python",
   "pygments_lexer": "ipython3",
   "version": "3.7.3"
  }
 },
 "nbformat": 4,
 "nbformat_minor": 2
}
